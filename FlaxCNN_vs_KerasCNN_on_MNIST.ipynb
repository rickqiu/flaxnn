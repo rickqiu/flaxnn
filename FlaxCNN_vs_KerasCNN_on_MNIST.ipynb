{
  "nbformat": 4,
  "nbformat_minor": 0,
  "metadata": {
    "colab": {
      "name": "FlaxCNN_vs_KerasCNN_on_MNIST.ipynb",
      "provenance": [],
      "toc_visible": true,
      "include_colab_link": true
    },
    "kernelspec": {
      "name": "python3",
      "display_name": "Python 3"
    },
    "language_info": {
      "name": "python"
    },
    "gpuClass": "standard",
    "accelerator": "GPU",
    "widgets": {
      "application/vnd.jupyter.widget-state+json": {
        "efe7792cd8e94a87bab38f0277fe6ccb": {
          "model_module": "@jupyter-widgets/controls",
          "model_name": "HBoxModel",
          "model_module_version": "1.5.0",
          "state": {
            "_dom_classes": [],
            "_model_module": "@jupyter-widgets/controls",
            "_model_module_version": "1.5.0",
            "_model_name": "HBoxModel",
            "_view_count": null,
            "_view_module": "@jupyter-widgets/controls",
            "_view_module_version": "1.5.0",
            "_view_name": "HBoxView",
            "box_style": "",
            "children": [
              "IPY_MODEL_d220979613dd46e395c5a49669e0b473",
              "IPY_MODEL_c9d54d07656d4844a01472a8a504a24b",
              "IPY_MODEL_b73b2d5a731843158d899781c63025e8"
            ],
            "layout": "IPY_MODEL_d9e216d31dde4581b0dd5a36b1424383"
          }
        },
        "d220979613dd46e395c5a49669e0b473": {
          "model_module": "@jupyter-widgets/controls",
          "model_name": "HTMLModel",
          "model_module_version": "1.5.0",
          "state": {
            "_dom_classes": [],
            "_model_module": "@jupyter-widgets/controls",
            "_model_module_version": "1.5.0",
            "_model_name": "HTMLModel",
            "_view_count": null,
            "_view_module": "@jupyter-widgets/controls",
            "_view_module_version": "1.5.0",
            "_view_name": "HTMLView",
            "description": "",
            "description_tooltip": null,
            "layout": "IPY_MODEL_3c39e287b33f4ed7a8ce83e236d3f189",
            "placeholder": "​",
            "style": "IPY_MODEL_34a790d4fd0945a5b3777cc7849144d1",
            "value": "Dl Completed...: 100%"
          }
        },
        "c9d54d07656d4844a01472a8a504a24b": {
          "model_module": "@jupyter-widgets/controls",
          "model_name": "FloatProgressModel",
          "model_module_version": "1.5.0",
          "state": {
            "_dom_classes": [],
            "_model_module": "@jupyter-widgets/controls",
            "_model_module_version": "1.5.0",
            "_model_name": "FloatProgressModel",
            "_view_count": null,
            "_view_module": "@jupyter-widgets/controls",
            "_view_module_version": "1.5.0",
            "_view_name": "ProgressView",
            "bar_style": "success",
            "description": "",
            "description_tooltip": null,
            "layout": "IPY_MODEL_d29ecabc76df454588d4586ddf942624",
            "max": 4,
            "min": 0,
            "orientation": "horizontal",
            "style": "IPY_MODEL_e01e80fa26e041a29907f62dae83930b",
            "value": 4
          }
        },
        "b73b2d5a731843158d899781c63025e8": {
          "model_module": "@jupyter-widgets/controls",
          "model_name": "HTMLModel",
          "model_module_version": "1.5.0",
          "state": {
            "_dom_classes": [],
            "_model_module": "@jupyter-widgets/controls",
            "_model_module_version": "1.5.0",
            "_model_name": "HTMLModel",
            "_view_count": null,
            "_view_module": "@jupyter-widgets/controls",
            "_view_module_version": "1.5.0",
            "_view_name": "HTMLView",
            "description": "",
            "description_tooltip": null,
            "layout": "IPY_MODEL_bd48d46b598b44afbeba1d6086b01a77",
            "placeholder": "​",
            "style": "IPY_MODEL_67a0da8f635f4e5e9c8dde836eeed44a",
            "value": " 4/4 [00:00&lt;00:00, 10.44 file/s]"
          }
        },
        "d9e216d31dde4581b0dd5a36b1424383": {
          "model_module": "@jupyter-widgets/base",
          "model_name": "LayoutModel",
          "model_module_version": "1.2.0",
          "state": {
            "_model_module": "@jupyter-widgets/base",
            "_model_module_version": "1.2.0",
            "_model_name": "LayoutModel",
            "_view_count": null,
            "_view_module": "@jupyter-widgets/base",
            "_view_module_version": "1.2.0",
            "_view_name": "LayoutView",
            "align_content": null,
            "align_items": null,
            "align_self": null,
            "border": null,
            "bottom": null,
            "display": null,
            "flex": null,
            "flex_flow": null,
            "grid_area": null,
            "grid_auto_columns": null,
            "grid_auto_flow": null,
            "grid_auto_rows": null,
            "grid_column": null,
            "grid_gap": null,
            "grid_row": null,
            "grid_template_areas": null,
            "grid_template_columns": null,
            "grid_template_rows": null,
            "height": null,
            "justify_content": null,
            "justify_items": null,
            "left": null,
            "margin": null,
            "max_height": null,
            "max_width": null,
            "min_height": null,
            "min_width": null,
            "object_fit": null,
            "object_position": null,
            "order": null,
            "overflow": null,
            "overflow_x": null,
            "overflow_y": null,
            "padding": null,
            "right": null,
            "top": null,
            "visibility": null,
            "width": null
          }
        },
        "3c39e287b33f4ed7a8ce83e236d3f189": {
          "model_module": "@jupyter-widgets/base",
          "model_name": "LayoutModel",
          "model_module_version": "1.2.0",
          "state": {
            "_model_module": "@jupyter-widgets/base",
            "_model_module_version": "1.2.0",
            "_model_name": "LayoutModel",
            "_view_count": null,
            "_view_module": "@jupyter-widgets/base",
            "_view_module_version": "1.2.0",
            "_view_name": "LayoutView",
            "align_content": null,
            "align_items": null,
            "align_self": null,
            "border": null,
            "bottom": null,
            "display": null,
            "flex": null,
            "flex_flow": null,
            "grid_area": null,
            "grid_auto_columns": null,
            "grid_auto_flow": null,
            "grid_auto_rows": null,
            "grid_column": null,
            "grid_gap": null,
            "grid_row": null,
            "grid_template_areas": null,
            "grid_template_columns": null,
            "grid_template_rows": null,
            "height": null,
            "justify_content": null,
            "justify_items": null,
            "left": null,
            "margin": null,
            "max_height": null,
            "max_width": null,
            "min_height": null,
            "min_width": null,
            "object_fit": null,
            "object_position": null,
            "order": null,
            "overflow": null,
            "overflow_x": null,
            "overflow_y": null,
            "padding": null,
            "right": null,
            "top": null,
            "visibility": null,
            "width": null
          }
        },
        "34a790d4fd0945a5b3777cc7849144d1": {
          "model_module": "@jupyter-widgets/controls",
          "model_name": "DescriptionStyleModel",
          "model_module_version": "1.5.0",
          "state": {
            "_model_module": "@jupyter-widgets/controls",
            "_model_module_version": "1.5.0",
            "_model_name": "DescriptionStyleModel",
            "_view_count": null,
            "_view_module": "@jupyter-widgets/base",
            "_view_module_version": "1.2.0",
            "_view_name": "StyleView",
            "description_width": ""
          }
        },
        "d29ecabc76df454588d4586ddf942624": {
          "model_module": "@jupyter-widgets/base",
          "model_name": "LayoutModel",
          "model_module_version": "1.2.0",
          "state": {
            "_model_module": "@jupyter-widgets/base",
            "_model_module_version": "1.2.0",
            "_model_name": "LayoutModel",
            "_view_count": null,
            "_view_module": "@jupyter-widgets/base",
            "_view_module_version": "1.2.0",
            "_view_name": "LayoutView",
            "align_content": null,
            "align_items": null,
            "align_self": null,
            "border": null,
            "bottom": null,
            "display": null,
            "flex": null,
            "flex_flow": null,
            "grid_area": null,
            "grid_auto_columns": null,
            "grid_auto_flow": null,
            "grid_auto_rows": null,
            "grid_column": null,
            "grid_gap": null,
            "grid_row": null,
            "grid_template_areas": null,
            "grid_template_columns": null,
            "grid_template_rows": null,
            "height": null,
            "justify_content": null,
            "justify_items": null,
            "left": null,
            "margin": null,
            "max_height": null,
            "max_width": null,
            "min_height": null,
            "min_width": null,
            "object_fit": null,
            "object_position": null,
            "order": null,
            "overflow": null,
            "overflow_x": null,
            "overflow_y": null,
            "padding": null,
            "right": null,
            "top": null,
            "visibility": null,
            "width": null
          }
        },
        "e01e80fa26e041a29907f62dae83930b": {
          "model_module": "@jupyter-widgets/controls",
          "model_name": "ProgressStyleModel",
          "model_module_version": "1.5.0",
          "state": {
            "_model_module": "@jupyter-widgets/controls",
            "_model_module_version": "1.5.0",
            "_model_name": "ProgressStyleModel",
            "_view_count": null,
            "_view_module": "@jupyter-widgets/base",
            "_view_module_version": "1.2.0",
            "_view_name": "StyleView",
            "bar_color": null,
            "description_width": ""
          }
        },
        "bd48d46b598b44afbeba1d6086b01a77": {
          "model_module": "@jupyter-widgets/base",
          "model_name": "LayoutModel",
          "model_module_version": "1.2.0",
          "state": {
            "_model_module": "@jupyter-widgets/base",
            "_model_module_version": "1.2.0",
            "_model_name": "LayoutModel",
            "_view_count": null,
            "_view_module": "@jupyter-widgets/base",
            "_view_module_version": "1.2.0",
            "_view_name": "LayoutView",
            "align_content": null,
            "align_items": null,
            "align_self": null,
            "border": null,
            "bottom": null,
            "display": null,
            "flex": null,
            "flex_flow": null,
            "grid_area": null,
            "grid_auto_columns": null,
            "grid_auto_flow": null,
            "grid_auto_rows": null,
            "grid_column": null,
            "grid_gap": null,
            "grid_row": null,
            "grid_template_areas": null,
            "grid_template_columns": null,
            "grid_template_rows": null,
            "height": null,
            "justify_content": null,
            "justify_items": null,
            "left": null,
            "margin": null,
            "max_height": null,
            "max_width": null,
            "min_height": null,
            "min_width": null,
            "object_fit": null,
            "object_position": null,
            "order": null,
            "overflow": null,
            "overflow_x": null,
            "overflow_y": null,
            "padding": null,
            "right": null,
            "top": null,
            "visibility": null,
            "width": null
          }
        },
        "67a0da8f635f4e5e9c8dde836eeed44a": {
          "model_module": "@jupyter-widgets/controls",
          "model_name": "DescriptionStyleModel",
          "model_module_version": "1.5.0",
          "state": {
            "_model_module": "@jupyter-widgets/controls",
            "_model_module_version": "1.5.0",
            "_model_name": "DescriptionStyleModel",
            "_view_count": null,
            "_view_module": "@jupyter-widgets/base",
            "_view_module_version": "1.2.0",
            "_view_name": "StyleView",
            "description_width": ""
          }
        }
      }
    }
  },
  "cells": [
    {
      "cell_type": "markdown",
      "metadata": {
        "id": "view-in-github",
        "colab_type": "text"
      },
      "source": [
        "<a href=\"https://colab.research.google.com/github/rickqiu/flaxnn/blob/main/FlaxCNN_vs_KerasCNN_on_MNIST.ipynb\" target=\"_parent\"><img src=\"https://colab.research.google.com/assets/colab-badge.svg\" alt=\"Open In Colab\"/></a>"
      ]
    },
    {
      "cell_type": "markdown",
      "source": [
        "# Flax CNN 2x faster than Keras CNN on MNIST\n",
        "\n",
        "The notebook aims to compare the model training time between a Flax CNN and a Keras CNN on MNIST dataset.\n",
        "\n",
        "Choose GPU via \"Runtime -> Change runtime type\"."
      ],
      "metadata": {
        "id": "IviwgOmQnCGn"
      }
    },
    {
      "cell_type": "code",
      "execution_count": null,
      "metadata": {
        "colab": {
          "base_uri": "https://localhost:8080/"
        },
        "id": "7vDJ843aMWUb",
        "outputId": "d85811a6-3a24-4250-e4da-c04033425dab"
      },
      "outputs": [
        {
          "output_type": "stream",
          "name": "stdout",
          "text": [
            "\u001b[K     |████████████████████████████████| 202 kB 19.2 MB/s \n",
            "\u001b[K     |████████████████████████████████| 145 kB 34.5 MB/s \n",
            "\u001b[K     |████████████████████████████████| 596 kB 53.0 MB/s \n",
            "\u001b[K     |████████████████████████████████| 9.1 MB 60.3 MB/s \n",
            "\u001b[K     |████████████████████████████████| 217 kB 10.7 MB/s \n",
            "\u001b[K     |████████████████████████████████| 51 kB 5.7 MB/s \n",
            "\u001b[K     |████████████████████████████████| 72 kB 617 kB/s \n",
            "\u001b[?25h"
          ]
        }
      ],
      "source": [
        "# Install the flax package\n",
        "!pip install -q flax"
      ]
    },
    {
      "cell_type": "code",
      "source": [
        "# Import libraries\n",
        "import jax\n",
        "import jax.numpy as jnp                # JAX NumPy\n",
        "\n",
        "from flax import linen as nn           # The Linen API\n",
        "from flax.training import train_state  # Useful dataclass to keep train state\n",
        "import optax                           # Optimizers\n",
        "\n",
        "import numpy as np                     \n",
        "import tensorflow as tf \n",
        "import tensorflow_datasets as tfds                \n",
        "from tensorflow import keras           \n",
        "\n",
        "import time                           "
      ],
      "metadata": {
        "id": "xHePwfjkMdSp"
      },
      "execution_count": null,
      "outputs": []
    },
    {
      "cell_type": "code",
      "source": [
        "# Set CONSTANTS for both models\n",
        "NUM_EPOCH = 10\n",
        "BATCH_SIZE = 32"
      ],
      "metadata": {
        "id": "fkceM8_EmsaB"
      },
      "execution_count": null,
      "outputs": []
    },
    {
      "cell_type": "markdown",
      "source": [
        "## Keras CNN Model\n",
        "\n",
        "We are to train a Keras CNN model as a baseline model."
      ],
      "metadata": {
        "id": "MwYSODjnceCC"
      }
    },
    {
      "cell_type": "code",
      "source": [
        "# Setup a keras cnn with 6 layers\n",
        "model = keras.Sequential(\n",
        "    [\n",
        "        keras.Input(shape=(28, 28, 1)),\n",
        "        keras.layers.Conv2D(32, kernel_size=(3, 3), activation=\"relu\"),\n",
        "        keras.layers.AveragePooling2D(pool_size=(2, 2)),\n",
        "        keras.layers.Conv2D(64, kernel_size=(3, 3), activation=\"relu\"),\n",
        "        keras.layers.AveragePooling2D(pool_size=(2, 2)),\n",
        "        keras.layers.Flatten(),\n",
        "        keras.layers.Dense(256, activation=\"relu\"),\n",
        "        keras.layers.Dense(10, activation=\"softmax\"),\n",
        "    ]\n",
        ")"
      ],
      "metadata": {
        "id": "wU1bvLiCS9SU"
      },
      "execution_count": null,
      "outputs": []
    },
    {
      "cell_type": "code",
      "source": [
        "# Load the MNIST dataset with tfds\n",
        "(ds_train, ds_test), ds_info = tfds.load(\n",
        "    'mnist',\n",
        "    split=['train', 'test'],\n",
        "    shuffle_files=True,\n",
        "    as_supervised=True,\n",
        "    with_info=True,\n",
        ")"
      ],
      "metadata": {
        "id": "0lSs1baVX3bV",
        "colab": {
          "base_uri": "https://localhost:8080/",
          "height": 188,
          "referenced_widgets": [
            "efe7792cd8e94a87bab38f0277fe6ccb",
            "d220979613dd46e395c5a49669e0b473",
            "c9d54d07656d4844a01472a8a504a24b",
            "b73b2d5a731843158d899781c63025e8",
            "d9e216d31dde4581b0dd5a36b1424383",
            "3c39e287b33f4ed7a8ce83e236d3f189",
            "34a790d4fd0945a5b3777cc7849144d1",
            "d29ecabc76df454588d4586ddf942624",
            "e01e80fa26e041a29907f62dae83930b",
            "bd48d46b598b44afbeba1d6086b01a77",
            "67a0da8f635f4e5e9c8dde836eeed44a"
          ]
        },
        "outputId": "3bc9025b-cdb3-4211-d730-02d79d6f5e69"
      },
      "execution_count": null,
      "outputs": [
        {
          "output_type": "stream",
          "name": "stdout",
          "text": [
            "\u001b[1mDownloading and preparing dataset mnist/3.0.1 (download: 11.06 MiB, generated: 21.00 MiB, total: 32.06 MiB) to /root/tensorflow_datasets/mnist/3.0.1...\u001b[0m\n"
          ]
        },
        {
          "output_type": "stream",
          "name": "stderr",
          "text": [
            "WARNING:absl:Dataset mnist is hosted on GCS. It will automatically be downloaded to your\n",
            "local data directory. If you'd instead prefer to read directly from our public\n",
            "GCS bucket (recommended if you're running on GCP), you can instead pass\n",
            "`try_gcs=True` to `tfds.load` or set `data_dir=gs://tfds-data/datasets`.\n",
            "\n"
          ]
        },
        {
          "output_type": "display_data",
          "data": {
            "text/plain": [
              "Dl Completed...:   0%|          | 0/4 [00:00<?, ? file/s]"
            ],
            "application/vnd.jupyter.widget-view+json": {
              "version_major": 2,
              "version_minor": 0,
              "model_id": "efe7792cd8e94a87bab38f0277fe6ccb"
            }
          },
          "metadata": {}
        },
        {
          "output_type": "stream",
          "name": "stdout",
          "text": [
            "\n",
            "\u001b[1mDataset mnist downloaded and prepared to /root/tensorflow_datasets/mnist/3.0.1. Subsequent calls will reuse this data.\u001b[0m\n"
          ]
        }
      ]
    },
    {
      "cell_type": "code",
      "source": [
        "# Normalize the traning data\n",
        "def normalize_img(image, label):\n",
        "  \"\"\"Normalizes images: `uint8` -> `float32`.\"\"\"\n",
        "  return tf.cast(image, tf.float32) / 255., label\n",
        "\n",
        "ds_train = ds_train.map(normalize_img, num_parallel_calls=tf.data.AUTOTUNE)\n",
        "ds_train = ds_train.cache()\n",
        "ds_train = ds_train.shuffle(ds_info.splits['train'].num_examples)\n",
        "ds_train = ds_train.batch(BATCH_SIZE)\n",
        "ds_train = ds_train.prefetch(tf.data.AUTOTUNE)"
      ],
      "metadata": {
        "id": "OKM8XGdUY2os"
      },
      "execution_count": null,
      "outputs": []
    },
    {
      "cell_type": "code",
      "source": [
        "# Normalize the test data\n",
        "ds_test = ds_test.map(\n",
        "    normalize_img, num_parallel_calls=tf.data.AUTOTUNE)\n",
        "ds_test = ds_test.batch(BATCH_SIZE)\n",
        "ds_test = ds_test.cache()\n",
        "ds_test = ds_test.prefetch(tf.data.AUTOTUNE)"
      ],
      "metadata": {
        "id": "0wi0hsp7ZicH"
      },
      "execution_count": null,
      "outputs": []
    },
    {
      "cell_type": "code",
      "source": [
        "# Compile the model\n",
        "model.compile(\n",
        "    optimizer=tf.keras.optimizers.Adam(0.01),\n",
        "    loss=tf.keras.losses.SparseCategoricalCrossentropy(from_logits=True),\n",
        "    metrics=[tf.keras.metrics.SparseCategoricalAccuracy()],\n",
        ")"
      ],
      "metadata": {
        "id": "jiF4rNlasRbh"
      },
      "execution_count": null,
      "outputs": []
    },
    {
      "cell_type": "code",
      "source": [
        "# Train the model with 10 epochs\n",
        "\n",
        "# START TIME \n",
        "start = int(round(time.time()))\n",
        "\n",
        "model.fit(ds_train, epochs=NUM_EPOCH, validation_data=ds_test)\n",
        "\n",
        "end = int(round(time.time()))\n",
        "# END TIME \n",
        "\n",
        "print(f' Duration: {(end - start)}s')"
      ],
      "metadata": {
        "colab": {
          "base_uri": "https://localhost:8080/"
        },
        "id": "1chCDTqxZqRJ",
        "outputId": "7e66a57e-7add-4484-b72f-71188fbfb3fe"
      },
      "execution_count": null,
      "outputs": [
        {
          "output_type": "stream",
          "name": "stdout",
          "text": [
            "Epoch 1/10\n"
          ]
        },
        {
          "output_type": "stream",
          "name": "stderr",
          "text": [
            "/usr/local/lib/python3.7/dist-packages/tensorflow/python/util/dispatch.py:1082: UserWarning: \"`sparse_categorical_crossentropy` received `from_logits=True`, but the `output` argument was produced by a sigmoid or softmax activation and thus does not represent logits. Was this intended?\"\n",
            "  return dispatch_target(*args, **kwargs)\n"
          ]
        },
        {
          "output_type": "stream",
          "name": "stdout",
          "text": [
            "1875/1875 [==============================] - 29s 4ms/step - loss: 0.1827 - sparse_categorical_accuracy: 0.9432 - val_loss: 0.0662 - val_sparse_categorical_accuracy: 0.9795\n",
            "Epoch 2/10\n",
            "1875/1875 [==============================] - 7s 4ms/step - loss: 0.0800 - sparse_categorical_accuracy: 0.9753 - val_loss: 0.0884 - val_sparse_categorical_accuracy: 0.9733\n",
            "Epoch 3/10\n",
            "1875/1875 [==============================] - 7s 4ms/step - loss: 0.0689 - sparse_categorical_accuracy: 0.9791 - val_loss: 0.0665 - val_sparse_categorical_accuracy: 0.9802\n",
            "Epoch 4/10\n",
            "1875/1875 [==============================] - 8s 4ms/step - loss: 0.0602 - sparse_categorical_accuracy: 0.9820 - val_loss: 0.0612 - val_sparse_categorical_accuracy: 0.9835\n",
            "Epoch 5/10\n",
            "1875/1875 [==============================] - 7s 4ms/step - loss: 0.0578 - sparse_categorical_accuracy: 0.9822 - val_loss: 0.0725 - val_sparse_categorical_accuracy: 0.9794\n",
            "Epoch 6/10\n",
            "1875/1875 [==============================] - 7s 4ms/step - loss: 0.0537 - sparse_categorical_accuracy: 0.9848 - val_loss: 0.0665 - val_sparse_categorical_accuracy: 0.9797\n",
            "Epoch 7/10\n",
            "1875/1875 [==============================] - 7s 4ms/step - loss: 0.0520 - sparse_categorical_accuracy: 0.9844 - val_loss: 0.0903 - val_sparse_categorical_accuracy: 0.9784\n",
            "Epoch 8/10\n",
            "1875/1875 [==============================] - 7s 4ms/step - loss: 0.0475 - sparse_categorical_accuracy: 0.9858 - val_loss: 0.0722 - val_sparse_categorical_accuracy: 0.9805\n",
            "Epoch 9/10\n",
            "1875/1875 [==============================] - 7s 4ms/step - loss: 0.0452 - sparse_categorical_accuracy: 0.9872 - val_loss: 0.0648 - val_sparse_categorical_accuracy: 0.9834\n",
            "Epoch 10/10\n",
            "1875/1875 [==============================] - 7s 4ms/step - loss: 0.0476 - sparse_categorical_accuracy: 0.9861 - val_loss: 0.0602 - val_sparse_categorical_accuracy: 0.9835\n",
            " Duration: 124s\n"
          ]
        }
      ]
    },
    {
      "cell_type": "markdown",
      "source": [
        "## Flax CNN Model\n",
        "\n",
        "We are to train a Flax cnn model to compare its training time with Keras cnn model training time."
      ],
      "metadata": {
        "id": "gUNZPWXmcS1C"
      }
    },
    {
      "cell_type": "code",
      "source": [
        "# Setup a Flax CNN with 6 layers\n",
        "class CNN(nn.Module):\n",
        "  \"\"\"A simple CNN model.\"\"\"\n",
        "\n",
        "  @nn.compact\n",
        "  def __call__(self, x):\n",
        "    x = nn.Conv(features=32, kernel_size=(3, 3))(x)\n",
        "    x = nn.relu(x)\n",
        "    x = nn.avg_pool(x, window_shape=(2, 2), strides=(2, 2))\n",
        "    x = nn.Conv(features=64, kernel_size=(3, 3))(x)\n",
        "    x = nn.relu(x)\n",
        "    x = nn.avg_pool(x, window_shape=(2, 2), strides=(2, 2))\n",
        "    x = x.reshape((x.shape[0], -1))  # flatten\n",
        "    x = nn.Dense(features=256)(x)\n",
        "    x = nn.relu(x)\n",
        "    x = nn.Dense(features=10)(x)\n",
        "    return x"
      ],
      "metadata": {
        "id": "gBjI9NTbMour"
      },
      "execution_count": null,
      "outputs": []
    },
    {
      "cell_type": "code",
      "source": [
        "def cross_entropy_loss(*, logits, labels):\n",
        "  labels_onehot = jax.nn.one_hot(labels, num_classes=10)\n",
        "  return optax.softmax_cross_entropy(logits=logits, labels=labels_onehot).mean()"
      ],
      "metadata": {
        "id": "70Ju3AsyMxRF"
      },
      "execution_count": null,
      "outputs": []
    },
    {
      "cell_type": "code",
      "source": [
        "def compute_metrics(*, logits, labels):\n",
        "  loss = cross_entropy_loss(logits=logits, labels=labels)\n",
        "  accuracy = jnp.mean(jnp.argmax(logits, -1) == labels)\n",
        "  metrics = {\n",
        "      'loss': loss,\n",
        "      'accuracy': accuracy,\n",
        "  }\n",
        "  return metrics"
      ],
      "metadata": {
        "id": "thBYnq3QM2D1"
      },
      "execution_count": null,
      "outputs": []
    },
    {
      "cell_type": "code",
      "source": [
        "def get_datasets():\n",
        "  \"\"\"Load MNIST train and test datasets into memory.\"\"\"\n",
        "  ds_builder = tfds.builder('mnist')\n",
        "  ds_builder.download_and_prepare()\n",
        "  train_ds = tfds.as_numpy(ds_builder.as_dataset(split='train', batch_size=-1))\n",
        "  test_ds = tfds.as_numpy(ds_builder.as_dataset(split='test', batch_size=-1))\n",
        "  train_ds['image'] = jnp.float32(train_ds['image']) / 255.\n",
        "  test_ds['image'] = jnp.float32(test_ds['image']) / 255.\n",
        "  return train_ds, test_ds"
      ],
      "metadata": {
        "id": "sfnPyliMM9ft"
      },
      "execution_count": null,
      "outputs": []
    },
    {
      "cell_type": "code",
      "source": [
        "def create_train_state(rng, learning_rate):\n",
        "  \"\"\"Creates initial `TrainState`.\"\"\"\n",
        "  cnn = CNN()\n",
        "  params = cnn.init(rng, jnp.ones([1, 28, 28, 1]))['params']\n",
        "  tx = optax.adam(learning_rate)\n",
        "  return train_state.TrainState.create(\n",
        "      apply_fn=cnn.apply, params=params, tx=tx)"
      ],
      "metadata": {
        "id": "zlWKL9n1NCCV"
      },
      "execution_count": null,
      "outputs": []
    },
    {
      "cell_type": "code",
      "source": [
        "@jax.jit\n",
        "def train_step(state, batch):\n",
        "  \"\"\"Train for a single step.\"\"\"\n",
        "  def loss_fn(params):\n",
        "    logits = CNN().apply({'params': params}, batch['image'])\n",
        "    loss = cross_entropy_loss(logits=logits, labels=batch['label'])\n",
        "    return loss, logits\n",
        "  grad_fn = jax.value_and_grad(loss_fn, has_aux=True)\n",
        "  (_, logits), grads = grad_fn(state.params)\n",
        "  state = state.apply_gradients(grads=grads)\n",
        "  metrics = compute_metrics(logits=logits, labels=batch['label'])\n",
        "  return state, metrics"
      ],
      "metadata": {
        "id": "8mUv7iIFNIXl"
      },
      "execution_count": null,
      "outputs": []
    },
    {
      "cell_type": "code",
      "source": [
        "@jax.jit\n",
        "def eval_step(params, batch):\n",
        "  logits = CNN().apply({'params': params}, batch['image'])\n",
        "  return compute_metrics(logits=logits, labels=batch['label'])"
      ],
      "metadata": {
        "id": "qUdpgBxPNQgg"
      },
      "execution_count": null,
      "outputs": []
    },
    {
      "cell_type": "code",
      "source": [
        "def train_epoch(state, train_ds, batch_size, epoch, rng):\n",
        "  \"\"\"Train for a single epoch.\"\"\"\n",
        "  train_ds_size = len(train_ds['image'])\n",
        "  steps_per_epoch = train_ds_size // BATCH_SIZE\n",
        "\n",
        "  perms = jax.random.permutation(rng, train_ds_size)\n",
        "  perms = perms[:steps_per_epoch * batch_size]  # skip incomplete batch\n",
        "  perms = perms.reshape((steps_per_epoch, batch_size))\n",
        "  batch_metrics = []\n",
        "  for perm in perms:\n",
        "    batch = {k: v[perm, ...] for k, v in train_ds.items()}\n",
        "    state, metrics = train_step(state, batch)\n",
        "    batch_metrics.append(metrics)\n",
        "\n",
        "  # compute mean of metrics across each batch in epoch.\n",
        "  batch_metrics_np = jax.device_get(batch_metrics)\n",
        "  epoch_metrics_np = {\n",
        "      k: np.mean([metrics[k] for metrics in batch_metrics_np])\n",
        "      for k in batch_metrics_np[0]}\n",
        "\n",
        "  print('train epoch: %d, loss: %.4f, accuracy: %.2f' % (\n",
        "      epoch, epoch_metrics_np['loss'], epoch_metrics_np['accuracy'] * 100))\n",
        "\n",
        "  return state"
      ],
      "metadata": {
        "id": "p7fy2ySpNUwA"
      },
      "execution_count": null,
      "outputs": []
    },
    {
      "cell_type": "code",
      "source": [
        "def eval_model(params, test_ds):\n",
        "  metrics = eval_step(params, test_ds)\n",
        "  metrics = jax.device_get(metrics)\n",
        "  summary = jax.tree_util.tree_map(lambda x: x.item(), metrics)\n",
        "  return summary['loss'], summary['accuracy']"
      ],
      "metadata": {
        "id": "L4OE0BUWNZ45"
      },
      "execution_count": null,
      "outputs": []
    },
    {
      "cell_type": "code",
      "source": [
        "train_ds, test_ds = get_datasets()"
      ],
      "metadata": {
        "id": "vfOLWGrwNdhq",
        "colab": {
          "base_uri": "https://localhost:8080/"
        },
        "outputId": "3ff0549b-9845-463c-a144-ac239e8f708c"
      },
      "execution_count": null,
      "outputs": [
        {
          "output_type": "stream",
          "name": "stdout",
          "text": [
            "WARNING:tensorflow:From /usr/local/lib/python3.7/dist-packages/tensorflow_datasets/core/dataset_builder.py:598: get_single_element (from tensorflow.python.data.experimental.ops.get_single_element) is deprecated and will be removed in a future version.\n",
            "Instructions for updating:\n",
            "Use `tf.data.Dataset.get_single_element()`.\n"
          ]
        },
        {
          "output_type": "stream",
          "name": "stderr",
          "text": [
            "WARNING:tensorflow:From /usr/local/lib/python3.7/dist-packages/tensorflow_datasets/core/dataset_builder.py:598: get_single_element (from tensorflow.python.data.experimental.ops.get_single_element) is deprecated and will be removed in a future version.\n",
            "Instructions for updating:\n",
            "Use `tf.data.Dataset.get_single_element()`.\n"
          ]
        }
      ]
    },
    {
      "cell_type": "code",
      "source": [
        "rng = jax.random.PRNGKey(0)\n",
        "rng, init_rng = jax.random.split(rng)"
      ],
      "metadata": {
        "id": "9G2y7C6aNfso"
      },
      "execution_count": null,
      "outputs": []
    },
    {
      "cell_type": "code",
      "source": [
        "state = create_train_state(init_rng, 0.01)\n",
        "del init_rng  # Must not be used anymore."
      ],
      "metadata": {
        "id": "IjqWbW1HNpKG"
      },
      "execution_count": null,
      "outputs": []
    },
    {
      "cell_type": "code",
      "source": [
        "# Train the Flax CNN with 10 epochs\n",
        "\n",
        "# START TIME \n",
        "start = int(round(time.time()))\n",
        "\n",
        "for epoch in range(1, NUM_EPOCH + 1):\n",
        "  # Use a separate PRNG key to permute image data during shuffling\n",
        "  rng, input_rng = jax.random.split(rng)\n",
        "  # Run an optimization step over a training batch\n",
        "  state = train_epoch(state, train_ds, BATCH_SIZE, epoch, input_rng)\n",
        "  # Evaluate on the test set after each training epoch \n",
        "  test_loss, test_accuracy = eval_model(state.params, test_ds)\n",
        "  print(' test epoch: %d, loss: %.2f, accuracy: %.2f' % (epoch, test_loss, test_accuracy * 100))\n",
        "\n",
        "end = int(round(time.time()))\n",
        "# END TIME\n",
        "print(f' Duration: {(end - start)}s')"
      ],
      "metadata": {
        "colab": {
          "base_uri": "https://localhost:8080/"
        },
        "id": "RHj9xVQyN5QS",
        "outputId": "80dec124-e730-4895-8eea-1ac330078169"
      },
      "execution_count": null,
      "outputs": [
        {
          "output_type": "stream",
          "name": "stdout",
          "text": [
            "train epoch: 1, loss: 0.1367, accuracy: 95.84\n",
            " test epoch: 1, loss: 0.06, accuracy: 98.04\n",
            "train epoch: 2, loss: 0.0658, accuracy: 98.02\n",
            " test epoch: 2, loss: 0.06, accuracy: 98.45\n",
            "train epoch: 3, loss: 0.0542, accuracy: 98.40\n",
            " test epoch: 3, loss: 0.08, accuracy: 97.70\n",
            "train epoch: 4, loss: 0.0455, accuracy: 98.66\n",
            " test epoch: 4, loss: 0.05, accuracy: 98.51\n",
            "train epoch: 5, loss: 0.0480, accuracy: 98.69\n",
            " test epoch: 5, loss: 0.06, accuracy: 98.40\n",
            "train epoch: 6, loss: 0.0421, accuracy: 98.81\n",
            " test epoch: 6, loss: 0.07, accuracy: 98.46\n",
            "train epoch: 7, loss: 0.0370, accuracy: 99.01\n",
            " test epoch: 7, loss: 0.08, accuracy: 98.39\n",
            "train epoch: 8, loss: 0.0389, accuracy: 98.98\n",
            " test epoch: 8, loss: 0.09, accuracy: 98.21\n",
            "train epoch: 9, loss: 0.0343, accuracy: 99.18\n",
            " test epoch: 9, loss: 0.09, accuracy: 98.23\n",
            "train epoch: 10, loss: 0.0402, accuracy: 99.02\n",
            " test epoch: 10, loss: 0.08, accuracy: 98.42\n",
            " Duration: 64s\n"
          ]
        }
      ]
    }
  ]
}